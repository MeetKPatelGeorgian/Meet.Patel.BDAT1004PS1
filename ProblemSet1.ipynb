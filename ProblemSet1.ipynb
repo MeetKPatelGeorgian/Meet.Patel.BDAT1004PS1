{
 "cells": [
  {
   "cell_type": "code",
   "execution_count": 3,
   "id": "bca27cb1",
   "metadata": {},
   "outputs": [
    {
     "name": "stdout",
     "output_type": "stream",
     "text": [
      "type of 5 :  <class 'int'>\n",
      "type of 5.0 :  <class 'float'>\n",
      "type of 5 > 1 :  <class 'bool'>\n",
      "type of '5' <class 'str'>\n",
      "type of 5*2 <class 'int'>\n",
      "type of '5' * 2 <class 'int'>\n",
      "type of '5' + '2' <class 'int'>\n",
      "type of 5 / 2  <class 'float'>\n",
      "type of 5 % 2 <class 'int'>\n",
      "type of {5, 2, 1} <class 'set'>\n",
      "type of 5 == 3 <class 'bool'>\n",
      "type of 3.14 <class 'float'>\n"
     ]
    }
   ],
   "source": [
    "# Question1\n",
    "print(\"type of 5 : \",type(5))\n",
    "print(\"type of 5.0 : \",type(5.0))\n",
    "print(\"type of 5 > 1 : \",type(5 > 1))\n",
    "print(\"type of '5'\",type('5'))\n",
    "print(\"type of 5*2\",type(5 * 2))\n",
    "print(\"type of '5' * 2\",type(eval('5' * 2)))\n",
    "print(\"type of '5' + '2'\",type(eval('5' + '2')))\n",
    "print(\"type of 5 / 2 \",type(5 / 2))\n",
    "print(\"type of 5 % 2\",type(5 % 2))\n",
    "print(\"type of {5, 2, 1}\",type({5, 2, 1}))\n",
    "print(\"type of 5 == 3\",type(5 == 3))\n",
    "print(\"type of 3.14\",type(3.14))"
   ]
  },
  {
   "cell_type": "code",
   "execution_count": 17,
   "id": "7cf5da61",
   "metadata": {
    "scrolled": false
   },
   "outputs": [
    {
     "name": "stdout",
     "output_type": "stream",
     "text": [
      "Size of Supercalifragilisticexpialidocious is  34\n",
      "Supercalifragilisticexpialidocious Contains ice\n",
      "Supercalifragilisticexpialidocious\n",
      "first composer Bartok \n",
      "last composer Buxtehude\n"
     ]
    }
   ],
   "source": [
    "# Question2\n",
    "print(\"Size of Supercalifragilisticexpialidocious is \",len(\"Supercalifragilisticexpialidocious\"))\n",
    "\n",
    "if \"ice\" in \"Supercalifragilisticexpialidocious\":\n",
    "    print(\"Supercalifragilisticexpialidocious Contains ice\")\n",
    "else:\n",
    "    print(\"Supercalifragilisticexpialidocious does not Contain ice\")\n",
    "    \n",
    "print(max([\"Supercalifragilisticexpialidocious\",\"Honorificabilitudinitatibus\",\"Bababadalgharaghtakamminarronnkonn\"],key=len))\n",
    "\n",
    "list_Str = sorted(['Berlioz', 'Borodin', 'Brian','Bartok', 'Bellini', 'Buxtehude', 'Bernstein'])\n",
    "print(\"first composer\",list_Str[0],\"\\nlast composer\",list_Str[-1])"
   ]
  },
  {
   "cell_type": "code",
   "execution_count": 20,
   "id": "46962ae6",
   "metadata": {},
   "outputs": [
    {
     "name": "stdout",
     "output_type": "stream",
     "text": [
      "1.7320508075688772\n"
     ]
    }
   ],
   "source": [
    "#Question 3\n",
    "import math\n",
    "def areaOfTriangle(a,b,c):\n",
    "    s = (a+b+c)/2\n",
    "    multi = s*(s - a)*(s -b)*(s -c)\n",
    "    return math.sqrt(multi)\n",
    "\n",
    "print(areaOfTriangle(2,2,2))"
   ]
  },
  {
   "cell_type": "code",
   "execution_count": 22,
   "id": "9b0eca22",
   "metadata": {},
   "outputs": [
    {
     "name": "stdout",
     "output_type": "stream",
     "text": [
      "The Even elements are : 42 56 32 \n",
      "The Odd elements are : 25 47 "
     ]
    }
   ],
   "source": [
    "#Question 4\n",
    "orignalList = [25,47,42,56,32]\n",
    "evenArray = []\n",
    "oddArray = []\n",
    "for i in orignalList:\n",
    "    if i % 2 == 0:\n",
    "        evenArray.append(i)\n",
    "    else:\n",
    "        oddArray.append(i)\n",
    "print(\"The Even elements are :\",end = \" \")\n",
    "for i in evenArray:\n",
    "  print(i,end = \" \")\n",
    "print(\"\\nThe Odd elements are :\",end = \" \")\n",
    "for i in oddArray:\n",
    "  print(i,end = \" \")"
   ]
  },
  {
   "cell_type": "code",
   "execution_count": 26,
   "id": "22c34278",
   "metadata": {},
   "outputs": [
    {
     "name": "stdout",
     "output_type": "stream",
     "text": [
      "True\n",
      "False\n",
      "dose not lie in both of rectangles\n"
     ]
    }
   ],
   "source": [
    "#Question 5 \n",
    "def inside(x, y, x1, y1, x2, y2):\n",
    "    if x >= x1 and x <= x2 and y >= y1 and y <= y2:\n",
    "        return True\n",
    "    else:\n",
    "        return False\n",
    "print (inside(1,1,0,0,2,3))\n",
    "print (inside(-1,-1,0,0,2,3))\n",
    "ret1 = inside(1,1,0.3,0.5,1.1,0.7)\n",
    "ret2 = inside(1,1,0.5, 0.2,1.1, 2)\n",
    "if ret1 and ret2:\n",
    "    print(\"lies in both of rectangles\")\n",
    "else:\n",
    "    print(\"dose not lie in both of rectangles\")"
   ]
  },
  {
   "cell_type": "code",
   "execution_count": 27,
   "id": "09bcdd09",
   "metadata": {},
   "outputs": [
    {
     "name": "stdout",
     "output_type": "stream",
     "text": [
      "appyhay\n",
      "enterway\n"
     ]
    }
   ],
   "source": [
    "#Question 6\n",
    "def pig(userStr):\n",
    "\tif userStr[0].lower() in 'aeiou':\n",
    "\t\treturn userStr.lower()+\"way\"\n",
    "\telse:\n",
    "\t\treturn userStr.lower()[1:len(userStr)]+userStr[0]+\"ay\"\n",
    "print(pig(\"happy\"))\n",
    "print(pig(\"Enter\"))"
   ]
  },
  {
   "cell_type": "code",
   "execution_count": 38,
   "id": "c73e28f6",
   "metadata": {},
   "outputs": [
    {
     "name": "stdout",
     "output_type": "stream",
     "text": [
      "bloodtype1.txt\n",
      "There are  10  patients of blood type A.\n",
      "There is  1  patient of blood type B.\n",
      "There are  10  patients of blood type AB.\n",
      "There are  12  patients of blood type O.\n",
      "There are  0 patients of blood type OO.\n"
     ]
    }
   ],
   "source": [
    "#Question 7\n",
    "f = open (\"C:/Users/meetk/OneDrive/Desktop/bloodtype1.txt\")\n",
    "fileContent = f.read()\n",
    "\n",
    "print(f.name.split(\"/\")[-1])\n",
    "print(\"There are \",fileContent.count(\" A \"),\" patients of blood type A.\")\n",
    "print(\"There is \" ,fileContent.count(\" B \"),\" patient of blood type B.\")\n",
    "print(\"There are \" , fileContent.count(\" AB \"),\" patients of blood type AB.\")\n",
    "print(\"There are \" ,fileContent.count(\" O \"),\" patients of blood type O.\")\n",
    "print(\"There are \",fileContent.count(\" OO \"), \"patients of blood type OO.\")"
   ]
  },
  {
   "cell_type": "code",
   "execution_count": 53,
   "id": "eee1a1e9",
   "metadata": {},
   "outputs": [
    {
     "name": "stdout",
     "output_type": "stream",
     "text": [
      "122.96544\n",
      "1.241401\n"
     ]
    }
   ],
   "source": [
    "#Question 8\n",
    "def curconv(type,amount):\n",
    "    f = open (\"C:/Users/meetk/OneDrive/Desktop/currencies.txt\")\n",
    "    fileContent = f.read()\n",
    "    rows = fileContent.split(\"\\n\")\n",
    "    row = \"\"\n",
    "    for s in rows:\n",
    "        if type in s:\n",
    "            row = s;\n",
    "            break\n",
    "            \n",
    "    price = row.split(\"\\t\")[1]\n",
    "    \n",
    "    print(amount * float(price))\n",
    "    \n",
    "curconv(\"EUR\",100)\n",
    "curconv(\"JPY\", 100)"
   ]
  },
  {
   "cell_type": "code",
   "execution_count": 60,
   "id": "365cf682",
   "metadata": {},
   "outputs": [
    {
     "ename": "FileNotFoundError",
     "evalue": "[Errno 2] No such file or directory: 'something.txt'",
     "output_type": "error",
     "traceback": [
      "\u001b[1;31m---------------------------------------------------------------------------\u001b[0m",
      "\u001b[1;31mFileNotFoundError\u001b[0m                         Traceback (most recent call last)",
      "Cell \u001b[1;32mIn[60], line 9\u001b[0m\n\u001b[0;32m      4\u001b[0m arr \u001b[38;5;241m=\u001b[39m [\u001b[38;5;241m1\u001b[39m,\u001b[38;5;241m2\u001b[39m,\u001b[38;5;241m1\u001b[39m,\u001b[38;5;241m2\u001b[39m,\u001b[38;5;241m2\u001b[39m,\u001b[38;5;241m3\u001b[39m,\u001b[38;5;241m4\u001b[39m,\u001b[38;5;241m3\u001b[39m,\u001b[38;5;241m2\u001b[39m,\u001b[38;5;241m3\u001b[39m]\n\u001b[0;32m      5\u001b[0m \u001b[38;5;66;03m#arr[12] #list index out of range\u001b[39;00m\n\u001b[0;32m      6\u001b[0m \u001b[38;5;66;03m#math.sqrt(-1.0) # math domain error\u001b[39;00m\n\u001b[0;32m      7\u001b[0m \u001b[38;5;66;03m#print(x) #name 'x' is not defined\\\u001b[39;00m\n\u001b[1;32m----> 9\u001b[0m f\u001b[38;5;241m=\u001b[39m \u001b[38;5;28;43mopen\u001b[39;49m\u001b[43m(\u001b[49m\u001b[38;5;124;43m\"\u001b[39;49m\u001b[38;5;124;43msomething.txt\u001b[39;49m\u001b[38;5;124;43m\"\u001b[39;49m\u001b[43m)\u001b[49m\n",
      "File \u001b[1;32m~\\anaconda3\\lib\\site-packages\\IPython\\core\\interactiveshell.py:282\u001b[0m, in \u001b[0;36m_modified_open\u001b[1;34m(file, *args, **kwargs)\u001b[0m\n\u001b[0;32m    275\u001b[0m \u001b[38;5;28;01mif\u001b[39;00m file \u001b[38;5;129;01min\u001b[39;00m {\u001b[38;5;241m0\u001b[39m, \u001b[38;5;241m1\u001b[39m, \u001b[38;5;241m2\u001b[39m}:\n\u001b[0;32m    276\u001b[0m     \u001b[38;5;28;01mraise\u001b[39;00m \u001b[38;5;167;01mValueError\u001b[39;00m(\n\u001b[0;32m    277\u001b[0m         \u001b[38;5;124mf\u001b[39m\u001b[38;5;124m\"\u001b[39m\u001b[38;5;124mIPython won\u001b[39m\u001b[38;5;124m'\u001b[39m\u001b[38;5;124mt let you open fd=\u001b[39m\u001b[38;5;132;01m{\u001b[39;00mfile\u001b[38;5;132;01m}\u001b[39;00m\u001b[38;5;124m by default \u001b[39m\u001b[38;5;124m\"\u001b[39m\n\u001b[0;32m    278\u001b[0m         \u001b[38;5;124m\"\u001b[39m\u001b[38;5;124mas it is likely to crash IPython. If you know what you are doing, \u001b[39m\u001b[38;5;124m\"\u001b[39m\n\u001b[0;32m    279\u001b[0m         \u001b[38;5;124m\"\u001b[39m\u001b[38;5;124myou can use builtins\u001b[39m\u001b[38;5;124m'\u001b[39m\u001b[38;5;124m open.\u001b[39m\u001b[38;5;124m\"\u001b[39m\n\u001b[0;32m    280\u001b[0m     )\n\u001b[1;32m--> 282\u001b[0m \u001b[38;5;28;01mreturn\u001b[39;00m io_open(file, \u001b[38;5;241m*\u001b[39margs, \u001b[38;5;241m*\u001b[39m\u001b[38;5;241m*\u001b[39mkwargs)\n",
      "\u001b[1;31mFileNotFoundError\u001b[0m: [Errno 2] No such file or directory: 'something.txt'"
     ]
    }
   ],
   "source": [
    "#Question 9\n",
    "import math\n",
    "a = 6 + 'a' #unsupported operand type(s) for +: 'int' and 'str'\n",
    "arr = [1,2,1,2,2,3,4,3,2,3]\n",
    "arr[12] #list index out of range\n",
    "math.sqrt(-1.0) # math domain error\n",
    "print(x) #name 'x' is not defined\\\n",
    "f= open(\"something.txt\") # No such file or directory: 'something.txt'"
   ]
  },
  {
   "cell_type": "code",
   "execution_count": 65,
   "id": "a9311067",
   "metadata": {},
   "outputs": [
    {
     "name": "stdout",
     "output_type": "stream",
     "text": [
      "[1, 1, 1, 3, 5, 1, 1, 2, 1, 0, 1, 0, 1, 2, 4, 0, 1, 2, 0, 3, 1, 0, 1, 1, 0, 0]\n",
      "[1, 0, 0, 0, 1, 0, 0, 0, 0, 0, 0, 1, 0, 0, 0, 2, 0, 0, 0, 0, 0, 0, 0, 0, 0, 0]\n"
     ]
    }
   ],
   "source": [
    "#Question 10\n",
    "def frequencies(text):\n",
    "    letters = 'abcdefghijklmnopqrstuvwxyz'\n",
    "    charCount = {}\n",
    "\n",
    "    for char in text:\n",
    "        if char.lower() in letters:\n",
    "            if char.lower() in charCount:\n",
    "                charCount[char.lower()] += 1\n",
    "            else:\n",
    "                charCount[char.lower()] = 1\n",
    "\n",
    "    frequenciesList = [charCount.get(letter, 0) for letter in letters]\n",
    "\n",
    "    return print(frequenciesList)\n",
    "frequencies(\"The quick red fox got bored and went home.\")\n",
    "frequencies(\"apple\")"
   ]
  },
  {
   "cell_type": "code",
   "execution_count": null,
   "id": "ec00a87c",
   "metadata": {},
   "outputs": [],
   "source": []
  }
 ],
 "metadata": {
  "kernelspec": {
   "display_name": "Python 3 (ipykernel)",
   "language": "python",
   "name": "python3"
  },
  "language_info": {
   "codemirror_mode": {
    "name": "ipython",
    "version": 3
   },
   "file_extension": ".py",
   "mimetype": "text/x-python",
   "name": "python",
   "nbconvert_exporter": "python",
   "pygments_lexer": "ipython3",
   "version": "3.10.9"
  }
 },
 "nbformat": 4,
 "nbformat_minor": 5
}
